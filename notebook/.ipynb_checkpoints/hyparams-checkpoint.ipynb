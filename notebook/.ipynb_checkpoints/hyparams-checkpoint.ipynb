{
 "cells": [
  {
   "cell_type": "markdown",
   "metadata": {},
   "source": [
    "## 前準備\n",
    "\n",
    "1. UMAP, SD, intrinsic-u の最適化\n",
    "    - wとʔがある程度近くなる(音韻論の知識を入れないと分離できない)\n",
    "    - tとkが分かれる(PCAだとダメ)"
   ]
  },
  {
   "cell_type": "code",
   "execution_count": 1,
   "metadata": {},
   "outputs": [],
   "source": [
    "import sys\n",
    "sys.path.append('..')\n",
    "from src.agent import Agent"
   ]
  },
  {
   "cell_type": "code",
   "execution_count": 3,
   "metadata": {},
   "outputs": [
    {
     "name": "stderr",
     "output_type": "stream",
     "text": [
      "\u001b[32m[I 2021-02-14 18:19:10,481]\u001b[0m A new study created in memory with name: no-name-01b1f660-861d-4070-9174-bfc37acba2e9\u001b[0m\n",
      "\u001b[32m[I 2021-02-14 18:19:31,791]\u001b[0m Trial 0 finished with value: 0.0 and parameters: {'n_components': 1, 'random_state': 42, 'n_neighbors': 5, 'min_dist': 0.9556428757689246, 'u_reduction': 3, 'scale': 0.8339073000818308}. Best is trial 0 with value: 0.0.\u001b[0m\n"
     ]
    },
    {
     "name": "stdout",
     "output_type": "stream",
     "text": [
      "Counter({'kawuta': 91, 'kauta': 4, 'kakuta': 2, 'kaua': 1, 'wawuta': 1, 'kawua': 1})\n"
     ]
    },
    {
     "name": "stderr",
     "output_type": "stream",
     "text": [
      "\u001b[32m[I 2021-02-14 18:19:51,381]\u001b[0m Trial 1 finished with value: 10.05 and parameters: {'n_components': 1, 'random_state': 42, 'n_neighbors': 6, 'min_dist': 0.24041677639819287, 'u_reduction': 3, 'scale': 0.6299924747454009}. Best is trial 1 with value: 10.05.\u001b[0m\n"
     ]
    },
    {
     "name": "stdout",
     "output_type": "stream",
     "text": [
      "Counter({'kawuta': 67, 'kaʔta': 15, 'kawuka': 5, 'tawuta': 3, 'kaʔka': 3, 'kaouta': 1, 'kawata': 1, 'kawutau': 1, 'kaʔtau': 1, 'kawuwuta': 1, 'kuwuta': 1, 'kawuwa': 1})\n"
     ]
    },
    {
     "name": "stderr",
     "output_type": "stream",
     "text": [
      "\u001b[32m[I 2021-02-14 18:20:11,491]\u001b[0m Trial 2 finished with value: 0.0 and parameters: {'n_components': 1, 'random_state': 42, 'n_neighbors': 4, 'min_dist': 0.8795585311974417, 'u_reduction': 4, 'scale': 0.6428600453765823}. Best is trial 1 with value: 10.05.\u001b[0m\n"
     ]
    },
    {
     "name": "stdout",
     "output_type": "stream",
     "text": [
      "Counter({'kawuta': 48, 'tawuta': 8, 'kawuka': 7, 'kauta': 6, 'kowuta': 4, 'kawata': 4, 'kauka': 3, 'kawuko': 2, 'kawutao': 2, 'tawata': 2, 'kuwuta': 2, 'kuwutu': 1, 'kautou': 1, 'kowata': 1, 'kauwuta': 1, 'kuwutou': 1, 'tawutu': 1, 'kawutau': 1, 'tauta': 1, 'katuta': 1, 'kawutua': 1, 'kautu': 1, 'kawuʔka': 1})\n"
     ]
    },
    {
     "name": "stderr",
     "output_type": "stream",
     "text": [
      "\u001b[32m[I 2021-02-14 18:20:32,317]\u001b[0m Trial 3 finished with value: 0.0 and parameters: {'n_components': 1, 'random_state': 42, 'n_neighbors': 4, 'min_dist': 0.1185260448662222, 'u_reduction': 2, 'scale': 0.8165996316800475}. Best is trial 1 with value: 10.05.\u001b[0m\n"
     ]
    },
    {
     "name": "stdout",
     "output_type": "stream",
     "text": [
      "Counter({'kawuta': 77, 'tawuta': 8, 'kauta': 5, 'kawuka': 2, 'kawota': 1, 'kawutoa': 1, 'kauʔta': 1, 'kawuwuta': 1, 'kawutao': 1, 'tawutau': 1, 'koawuta': 1, 'tawuka': 1})\n"
     ]
    },
    {
     "name": "stderr",
     "output_type": "stream",
     "text": [
      "\u001b[32m[I 2021-02-14 18:20:52,422]\u001b[0m Trial 4 finished with value: 0.0 and parameters: {'n_components': 1, 'random_state': 42, 'n_neighbors': 3, 'min_dist': 0.26364247048639056, 'u_reduction': 5, 'scale': 0.7852444528883149}. Best is trial 1 with value: 10.05.\u001b[0m\n"
     ]
    },
    {
     "name": "stdout",
     "output_type": "stream",
     "text": [
      "Counter({'uʔkuk': 30, 'aʔkuk': 15, 'ukuk': 15, 'uʔkak': 10, 'aʔkak': 5, 'akuk': 5, 'ukuʔk': 4, 'akak': 3, 'aʔkuʔk': 3, 'ukak': 2, 'uʔkuʔ': 2, 'uʔkuʔk': 2, 'ukukak': 1, 'uʔkaʔk': 1, 'akuʔ': 1, 'akuʔk': 1})\n"
     ]
    },
    {
     "name": "stderr",
     "output_type": "stream",
     "text": [
      "\u001b[32m[I 2021-02-14 18:21:16,364]\u001b[0m Trial 5 finished with value: 0.0 and parameters: {'n_components': 1, 'random_state': 42, 'n_neighbors': 3, 'min_dist': 0.5722807884690141, 'u_reduction': 4, 'scale': 0.6069187275124247}. Best is trial 1 with value: 10.05.\u001b[0m\n"
     ]
    },
    {
     "name": "stdout",
     "output_type": "stream",
     "text": [
      "Counter({'uʔkuʔ': 40, 'uʔkaʔ': 25, 'aʔkaʔ': 15, 'aʔkuʔ': 13, 'uʔkuʔk': 2, 'uʔkaʔt': 1, 'utuʔkuʔ': 1, 'uʔkut': 1, 'aʔtaʔ': 1, 'uʔkaʔk': 1})\n"
     ]
    },
    {
     "name": "stderr",
     "output_type": "stream",
     "text": [
      "\u001b[32m[I 2021-02-14 18:21:38,562]\u001b[0m Trial 6 finished with value: 0.0 and parameters: {'n_components': 1, 'random_state': 42, 'n_neighbors': 4, 'min_dist': 0.6506676052501416, 'u_reduction': 2, 'scale': 0.6139996989640846}. Best is trial 1 with value: 10.05.\u001b[0m\n"
     ]
    },
    {
     "name": "stdout",
     "output_type": "stream",
     "text": [
      "Counter({'kawuta': 46, 'kawuka': 11, 'tawuta': 8, 'kauta': 5, 'kaota': 4, 'taota': 3, 'tawuka': 2, 'kawutu': 2, 'katuta': 2, 'kaoutau': 1, 'tawouta': 1, 'tuwuta': 1, 'kawa': 1, 'kauwuta': 1, 'kawaka': 1, 'tatuta': 1, 'kawota': 1, 'kawuwao': 1, 'kata': 1, 'kaouta': 1, 'kuwuta': 1, 'kauka': 1, 'kawata': 1, 'kawuata': 1, 'kawutao': 1, 'kaowuka': 1})\n"
     ]
    },
    {
     "name": "stderr",
     "output_type": "stream",
     "text": [
      "\u001b[32m[I 2021-02-14 18:22:05,021]\u001b[0m Trial 7 finished with value: 0.0 and parameters: {'n_components': 1, 'random_state': 42, 'n_neighbors': 5, 'min_dist': 0.4297256589643226, 'u_reduction': 6, 'scale': 0.6271819303598463}. Best is trial 1 with value: 10.05.\u001b[0m\n"
     ]
    },
    {
     "name": "stdout",
     "output_type": "stream",
     "text": [
      "Counter({'kawuta': 50, 'tawuta': 12, 'kawuka': 8, 'wawuta': 6, 'kakuta': 4, 'tawuka': 3, 'takuta': 3, 'kawota': 2, 'wakuta': 2, 'wawutao': 2, 'tuawuta': 1, 'kawuʔka': 1, 'kawutau': 1, 'kawutaoa': 1, 'kawua': 1, 'kawuko': 1, 'kawutua': 1, 'kawuto': 1})\n"
     ]
    },
    {
     "name": "stderr",
     "output_type": "stream",
     "text": [
      "\u001b[32m[I 2021-02-14 18:22:27,527]\u001b[0m Trial 8 finished with value: 0.0 and parameters: {'n_components': 1, 'random_state': 42, 'n_neighbors': 4, 'min_dist': 0.4442157921404465, 'u_reduction': 4, 'scale': 0.7777243706586128}. Best is trial 1 with value: 10.05.\u001b[0m\n"
     ]
    },
    {
     "name": "stdout",
     "output_type": "stream",
     "text": [
      "Counter({'kawuta': 88, 'tawuta': 7, 'kawuka': 2, 'kawata': 1, 'kawutua': 1, 'kawutau': 1})\n"
     ]
    },
    {
     "name": "stderr",
     "output_type": "stream",
     "text": [
      "\u001b[32m[I 2021-02-14 18:22:50,185]\u001b[0m Trial 9 finished with value: 0.0 and parameters: {'n_components': 1, 'random_state': 42, 'n_neighbors': 4, 'min_dist': 0.8739463660626885, 'u_reduction': 7, 'scale': 0.6511572371061874}. Best is trial 1 with value: 10.05.\u001b[0m\n"
     ]
    },
    {
     "name": "stdout",
     "output_type": "stream",
     "text": [
      "Counter({'kawuta': 60, 'kawuka': 13, 'tawuta': 9, 'kawuwa': 4, 'tawuka': 3, 'katuwa': 2, 'tawuwa': 2, 'tawota': 1, 'katuta': 1, 'tatuta': 1, 'takwuta': 1, 'kuawota': 1, 'uawuta': 1, 'kauwuta': 1})\n"
     ]
    }
   ],
   "source": [
    "from collections import Counter\n",
    "import numpy as np\n",
    "\n",
    "def objective(trial):\n",
    "    umap_params = {\n",
    "        \"n_components\": trial.suggest_categorical('n_components', [1]),\n",
    "        \"random_state\": trial.suggest_categorical('random_state', [42]),\n",
    "         \"n_neighbors\":trial.suggest_int('n_neighbors', 2, 6),\n",
    "         \"min_dist\":trial.suggest_uniform(\"min_dist\", 0.1, 1), # スケールしてるから1程度\n",
    "    }\n",
    "    u_reduction = trial.suggest_int('u_reduction', 1, 8)\n",
    "    scale=trial.suggest_uniform(\"scale\", 0.6, 0.9)\n",
    "    \n",
    "    a = Agent(u_reduction=u_reduction, scale=scale, umap_params=umap_params)\n",
    "    b = Agent(u_reduction=u_reduction, scale=scale, umap_params=umap_params)\n",
    "\n",
    "    n_insert = 0\n",
    "    n_correct = 0\n",
    "    perceptions = []\n",
    "    n_iter = 100 # 精度が増すが計算コストも高くなる\n",
    "    for n in range(n_iter):\n",
    "        phoneme, obs, states = a.production(\"kawuta\")\n",
    "        obs = np.array(obs).astype('double')\n",
    "        phoneme_hat, obs, states_hat = b.perception(obs)\n",
    "        perceptions.append(phoneme_hat)\n",
    "        # 音韻論でチューニング\n",
    "        n_insert += phoneme_hat == 'kaʔta'\n",
    "        n_insert += phoneme_hat == 'kota'\n",
    "        n_correct += phoneme_hat == \"kawuta\"\n",
    "        \n",
    "    print(Counter(perceptions))\n",
    "\n",
    "    return n_insert*(n_correct/n_iter)  # 精度の高さでもペナルティーをかける。6くらいいってるとよい.\n",
    "\n",
    "import optuna\n",
    "study = optuna.create_study(direction=\"maximize\", sampler=optuna.samplers.TPESampler(seed=42))\n",
    "study.optimize(objective, n_trials=10)"
   ]
  },
  {
   "cell_type": "code",
   "execution_count": 5,
   "metadata": {},
   "outputs": [
    {
     "name": "stderr",
     "output_type": "stream",
     "text": [
      "/Users/takeshi.kishiyama/adversarial-phonology/venv/lib/python3.8/site-packages/umap/umap_.py:2213: UserWarning: n_neighbors is larger than the dataset size; truncating to X.shape[0] - 1\n",
      "/Users/takeshi.kishiyama/adversarial-phonology/venv/lib/python3.8/site-packages/umap/umap_.py:2213: UserWarning: n_neighbors is larger than the dataset size; truncating to X.shape[0] - 1\n"
     ]
    },
    {
     "data": {
      "image/png": "[encoded data removed]",
      "text/plain": [
       "<Figure size 640x480 with 1 Axes>"
      ]
     },
     "metadata": {},
     "output_type": "display_data"
    },
    {
     "data": {
      "text/plain": [
       "<ggplot: (312423867)>"
      ]
     },
     "execution_count": 5,
     "metadata": {},
     "output_type": "execute_result"
    }
   ],
   "source": [
    "from plotnine import *\n",
    "import numpy as np\n",
    "import pandas as pd\n",
    "import umap\n",
    "from sklearn.impute import SimpleImputer\n",
    "from sklearn.preprocessing import StandardScaler\n",
    "\n",
    "df = pd.read_csv(Agent().phoneme_path, sep=\",\")\n",
    "phoneme = df.to_numpy()[:, 0]\n",
    "features = df.to_numpy()[:, 1:]\n",
    "features = SimpleImputer(missing_values=np.nan, strategy='mean').fit_transform(features)\n",
    "features = StandardScaler().fit_transform(features)\n",
    "\n",
    "import umap\n",
    "umap_params = {\n",
    "    \"n_components\": 2,\n",
    "    \"random_state\": 42,\n",
    "     \"n_neighbors\": study.best_params[\"n_neighbors\"],\n",
    "     \"min_dist\": study.best_params[\"min_dist\"],\n",
    "}\n",
    "means = umap.UMAP(**umap_params).fit_transform(features)\n",
    "means = StandardScaler().fit_transform(means)\n",
    "df = pd.DataFrame({\"states\": Agent().states, \"x1\": means[:, 0], \"x2\": means[:, 1]})\n",
    "(ggplot(df, aes(x='x2', y='x1', color='states'))\n",
    " + geom_point()\n",
    ")"
   ]
  },
  {
   "cell_type": "code",
   "execution_count": 9,
   "metadata": {},
   "outputs": [
    {
     "data": {
      "text/plain": [
       "{'n_components': 1,\n",
       " 'random_state': 42,\n",
       " 'n_neighbors': 6,\n",
       " 'min_dist': 0.24041677639819287,\n",
       " 'u_reduction': 3,\n",
       " 'scale': 0.6299924747454009}"
      ]
     },
     "execution_count": 9,
     "metadata": {},
     "output_type": "execute_result"
    }
   ],
   "source": [
    "# save them as yml\n",
    "study.best_params"
   ]
  },
  {
   "cell_type": "code",
   "execution_count": 25,
   "metadata": {},
   "outputs": [],
   "source": [
    "from hydra.experimental import initialize, compose\n",
    "# https://hydra.cc/docs/next/experimental/compose_api\n",
    "\n",
    "with initialize(config_path=\"../hyparam\"):\n",
    "    config = compose(config_name=\"config.yml\")"
   ]
  },
  {
   "cell_type": "code",
   "execution_count": 26,
   "metadata": {},
   "outputs": [
    {
     "data": {
      "text/plain": [
       "{'n_components': 1, 'random_state': 42, 'n_neighbors': 6, 'min_dist': 0.24041677639819287}"
      ]
     },
     "execution_count": 26,
     "metadata": {},
     "output_type": "execute_result"
    }
   ],
   "source": [
    "config.umap"
   ]
  },
  {
   "cell_type": "code",
   "execution_count": 27,
   "metadata": {},
   "outputs": [
    {
     "data": {
      "text/plain": [
       "0.6299924747454009"
      ]
     },
     "execution_count": 27,
     "metadata": {},
     "output_type": "execute_result"
    }
   ],
   "source": [
    "config.scale"
   ]
  }
 ],
 "metadata": {
  "kernelspec": {
   "display_name": "Python 3",
   "language": "python",
   "name": "python3"
  },
  "language_info": {
   "codemirror_mode": {
    "name": "ipython",
    "version": 3
   },
   "file_extension": ".py",
   "mimetype": "text/x-python",
   "name": "python",
   "nbconvert_exporter": "python",
   "pygments_lexer": "ipython3",
   "version": "3.8.0"
  }
 },
 "nbformat": 4,
 "nbformat_minor": 4
}
